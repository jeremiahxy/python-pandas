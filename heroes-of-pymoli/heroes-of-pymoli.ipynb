{
 "cells": [
  {
   "cell_type": "code",
   "execution_count": 1,
   "metadata": {
    "collapsed": true
   },
   "outputs": [],
   "source": [
    "#import dependencies\n",
    "import pandas as pd\n",
    "import json\n",
    "import os"
   ]
  },
  {
   "cell_type": "code",
   "execution_count": 2,
   "metadata": {
    "collapsed": true
   },
   "outputs": [],
   "source": [
    "jsondata = os.path.join(\"Resources\",\"purchase_data.json\")"
   ]
  },
  {
   "cell_type": "code",
   "execution_count": 3,
   "metadata": {},
   "outputs": [],
   "source": [
    "#Read JSON data into a variable\n",
    "with open(jsondata) as json_data:\n",
    "    d = json.load(json_data)"
   ]
  },
  {
   "cell_type": "code",
   "execution_count": 4,
   "metadata": {},
   "outputs": [
    {
     "data": {
      "text/html": [
       "<div>\n",
       "<style>\n",
       "    .dataframe thead tr:only-child th {\n",
       "        text-align: right;\n",
       "    }\n",
       "\n",
       "    .dataframe thead th {\n",
       "        text-align: left;\n",
       "    }\n",
       "\n",
       "    .dataframe tbody tr th {\n",
       "        vertical-align: top;\n",
       "    }\n",
       "</style>\n",
       "<table border=\"1\" class=\"dataframe\">\n",
       "  <thead>\n",
       "    <tr style=\"text-align: right;\">\n",
       "      <th></th>\n",
       "      <th>SN</th>\n",
       "      <th>Age</th>\n",
       "      <th>Gender</th>\n",
       "      <th>Item ID</th>\n",
       "      <th>Item Name</th>\n",
       "      <th>Price</th>\n",
       "    </tr>\n",
       "  </thead>\n",
       "  <tbody>\n",
       "    <tr>\n",
       "      <th>0</th>\n",
       "      <td>Aelalis34</td>\n",
       "      <td>38</td>\n",
       "      <td>Male</td>\n",
       "      <td>165</td>\n",
       "      <td>Bone Crushing Silver Skewer</td>\n",
       "      <td>3.37</td>\n",
       "    </tr>\n",
       "    <tr>\n",
       "      <th>1</th>\n",
       "      <td>Eolo46</td>\n",
       "      <td>21</td>\n",
       "      <td>Male</td>\n",
       "      <td>119</td>\n",
       "      <td>Stormbringer, Dark Blade of Ending Misery</td>\n",
       "      <td>2.32</td>\n",
       "    </tr>\n",
       "    <tr>\n",
       "      <th>2</th>\n",
       "      <td>Assastnya25</td>\n",
       "      <td>34</td>\n",
       "      <td>Male</td>\n",
       "      <td>174</td>\n",
       "      <td>Primitive Blade</td>\n",
       "      <td>2.46</td>\n",
       "    </tr>\n",
       "    <tr>\n",
       "      <th>3</th>\n",
       "      <td>Pheusrical25</td>\n",
       "      <td>21</td>\n",
       "      <td>Male</td>\n",
       "      <td>92</td>\n",
       "      <td>Final Critic</td>\n",
       "      <td>1.36</td>\n",
       "    </tr>\n",
       "    <tr>\n",
       "      <th>4</th>\n",
       "      <td>Aela59</td>\n",
       "      <td>23</td>\n",
       "      <td>Male</td>\n",
       "      <td>63</td>\n",
       "      <td>Stormfury Mace</td>\n",
       "      <td>1.27</td>\n",
       "    </tr>\n",
       "  </tbody>\n",
       "</table>\n",
       "</div>"
      ],
      "text/plain": [
       "             SN  Age Gender  Item ID  \\\n",
       "0     Aelalis34   38   Male      165   \n",
       "1        Eolo46   21   Male      119   \n",
       "2   Assastnya25   34   Male      174   \n",
       "3  Pheusrical25   21   Male       92   \n",
       "4        Aela59   23   Male       63   \n",
       "\n",
       "                                   Item Name  Price  \n",
       "0                Bone Crushing Silver Skewer   3.37  \n",
       "1  Stormbringer, Dark Blade of Ending Misery   2.32  \n",
       "2                            Primitive Blade   2.46  \n",
       "3                               Final Critic   1.36  \n",
       "4                             Stormfury Mace   1.27  "
      ]
     },
     "execution_count": 4,
     "metadata": {},
     "output_type": "execute_result"
    }
   ],
   "source": [
    "#turn data into dataframe\n",
    "game_df = pd.DataFrame(d, columns=['SN', 'Age', 'Gender', 'Item ID', 'Item Name', 'Price'])\n",
    "game_df.head()"
   ]
  },
  {
   "cell_type": "code",
   "execution_count": 14,
   "metadata": {},
   "outputs": [
    {
     "data": {
      "text/html": [
       "<div>\n",
       "<style>\n",
       "    .dataframe thead tr:only-child th {\n",
       "        text-align: right;\n",
       "    }\n",
       "\n",
       "    .dataframe thead th {\n",
       "        text-align: left;\n",
       "    }\n",
       "\n",
       "    .dataframe tbody tr th {\n",
       "        vertical-align: top;\n",
       "    }\n",
       "</style>\n",
       "<table border=\"1\" class=\"dataframe\">\n",
       "  <thead>\n",
       "    <tr style=\"text-align: right;\">\n",
       "      <th></th>\n",
       "      <th>Total Players</th>\n",
       "    </tr>\n",
       "  </thead>\n",
       "  <tbody>\n",
       "    <tr>\n",
       "      <th>0</th>\n",
       "      <td>573</td>\n",
       "    </tr>\n",
       "  </tbody>\n",
       "</table>\n",
       "</div>"
      ],
      "text/plain": [
       "   Total Players\n",
       "0            573"
      ]
     },
     "execution_count": 14,
     "metadata": {},
     "output_type": "execute_result"
    }
   ],
   "source": [
    "#Player Count\n",
    "total_players = len(game_df['SN'].value_counts())\n",
    "Total_Players = pd.DataFrame({\"Total Players\": total_players}, index=[0])\n",
    "Total_Players"
   ]
  },
  {
   "cell_type": "code",
   "execution_count": 6,
   "metadata": {
    "collapsed": true
   },
   "outputs": [],
   "source": [
    "#Purchasing Analysis"
   ]
  },
  {
   "cell_type": "code",
   "execution_count": 7,
   "metadata": {
    "scrolled": true
   },
   "outputs": [
    {
     "data": {
      "text/html": [
       "<div>\n",
       "<style>\n",
       "    .dataframe thead tr:only-child th {\n",
       "        text-align: right;\n",
       "    }\n",
       "\n",
       "    .dataframe thead th {\n",
       "        text-align: left;\n",
       "    }\n",
       "\n",
       "    .dataframe tbody tr th {\n",
       "        vertical-align: top;\n",
       "    }\n",
       "</style>\n",
       "<table border=\"1\" class=\"dataframe\">\n",
       "  <thead>\n",
       "    <tr style=\"text-align: right;\">\n",
       "      <th></th>\n",
       "      <th>Number of Unique Items</th>\n",
       "      <th>Average Price</th>\n",
       "      <th>Total Purchases</th>\n",
       "      <th>Total Revenue</th>\n",
       "    </tr>\n",
       "  </thead>\n",
       "  <tbody>\n",
       "    <tr>\n",
       "      <th>0</th>\n",
       "      <td>183</td>\n",
       "      <td>$2.93</td>\n",
       "      <td>780</td>\n",
       "      <td>$2,286.33</td>\n",
       "    </tr>\n",
       "  </tbody>\n",
       "</table>\n",
       "</div>"
      ],
      "text/plain": [
       "   Number of Unique Items Average Price  Total Purchases Total Revenue\n",
       "0                     183         $2.93              780     $2,286.33"
      ]
     },
     "execution_count": 7,
     "metadata": {},
     "output_type": "execute_result"
    }
   ],
   "source": [
    "#Number of Unique Items\n",
    "unique_items = len(game_df['Item ID'].value_counts())\n",
    "\n",
    "#Average Purchase Price\n",
    "average_price = game_df['Price'].mean()\n",
    "\n",
    "#Total Number of Purchases\n",
    "total_purchases = game_df['Item Name'].count()\n",
    "\n",
    "\n",
    "#Total Revenue\n",
    "total_revenue = game_df['Price'].sum()\n",
    "\n",
    "#Create DataFrame\n",
    "purchasing_analysis = pd.DataFrame({\"Number of Unique Items\": [unique_items],\n",
    "                                   \"Average Price\": [average_price],\n",
    "                                   \"Total Purchases\": [total_purchases],\n",
    "                                   \"Total Revenue\": [total_revenue],\n",
    "                                \n",
    "})\n",
    "\n",
    "#Reorder DataFrame\n",
    "purchasing_analysis = purchasing_analysis[[\"Number of Unique Items\", \"Average Price\",\"Total Purchases\", \"Total Revenue\"]]\n",
    "                                \n",
    "\n",
    "#improve formatting\n",
    "purchasing_analysis[\"Average Price\"] = purchasing_analysis[\"Average Price\"].map(\"${0:,.2f}\".format)\n",
    "purchasing_analysis[\"Total Revenue\"] = purchasing_analysis[\"Total Revenue\"].map(\"${0:,.2f}\".format)\n",
    "\n",
    "purchasing_analysis"
   ]
  },
  {
   "cell_type": "code",
   "execution_count": 8,
   "metadata": {
    "collapsed": true
   },
   "outputs": [],
   "source": [
    "#Gender Demographics"
   ]
  },
  {
   "cell_type": "code",
   "execution_count": 10,
   "metadata": {},
   "outputs": [
    {
     "data": {
      "text/html": [
       "<div>\n",
       "<style>\n",
       "    .dataframe thead tr:only-child th {\n",
       "        text-align: right;\n",
       "    }\n",
       "\n",
       "    .dataframe thead th {\n",
       "        text-align: left;\n",
       "    }\n",
       "\n",
       "    .dataframe tbody tr th {\n",
       "        vertical-align: top;\n",
       "    }\n",
       "</style>\n",
       "<table border=\"1\" class=\"dataframe\">\n",
       "  <thead>\n",
       "    <tr style=\"text-align: right;\">\n",
       "      <th></th>\n",
       "      <th>Percentage of Players</th>\n",
       "      <th>Count</th>\n",
       "    </tr>\n",
       "    <tr>\n",
       "      <th>Gender</th>\n",
       "      <th></th>\n",
       "      <th></th>\n",
       "    </tr>\n",
       "  </thead>\n",
       "  <tbody>\n",
       "    <tr>\n",
       "      <th>Female</th>\n",
       "      <td>100</td>\n",
       "      <td>17.45%</td>\n",
       "    </tr>\n",
       "    <tr>\n",
       "      <th>Male</th>\n",
       "      <td>465</td>\n",
       "      <td>81.15%</td>\n",
       "    </tr>\n",
       "    <tr>\n",
       "      <th>Other / Non-Disclosed</th>\n",
       "      <td>8</td>\n",
       "      <td>1.40%</td>\n",
       "    </tr>\n",
       "  </tbody>\n",
       "</table>\n",
       "</div>"
      ],
      "text/plain": [
       "                       Percentage of Players   Count\n",
       "Gender                                              \n",
       "Female                                   100  17.45%\n",
       "Male                                     465  81.15%\n",
       "Other / Non-Disclosed                      8   1.40%"
      ]
     },
     "execution_count": 10,
     "metadata": {},
     "output_type": "execute_result"
    }
   ],
   "source": [
    "#Group data by Gender and filter duplicates\n",
    "grouped_df = game_df.groupby([\"Gender\"])\n",
    "unique_df = grouped_df.nunique()\n",
    "\n",
    "#Total Gender\n",
    "total_gender = unique_df[\"SN\"].sum()\n",
    "\n",
    "#Percentage and Count of Players\n",
    "count = unique_df[\"SN\"].unique()\n",
    "percentage = unique_df[\"SN\"]/ total_gender\n",
    "\n",
    "#Create new dataframe\n",
    "final_gender = pd.DataFrame({\"Percentage of Players\": percentage,\n",
    "                            \"Count\":count})\n",
    "#Change percentage format and re order columns\n",
    "final_gender[\"Percentage of Players\"] = final_gender[\"Percentage of Players\"].map(\"{:,.2%}\".format) \n",
    "final_gender.columns = [\"Percentage of Players\", \"Count\"]\n",
    "#Print final dataframe\n",
    "final_gender"
   ]
  },
  {
   "cell_type": "code",
   "execution_count": null,
   "metadata": {},
   "outputs": [],
   "source": [
    "#Purchasing Analysis (Gender)\n",
    "\n",
    "#Purchase Count\n",
    "purchase_count = unique_df[\"Gender\"].value_counts()\n",
    "\n",
    "#Average Purchase Price\n",
    "average_price = grouped_df[\"Price\"].mean()\n",
    "\n",
    "#Total Purchase Value\n",
    "purchase_price = grouped_df[\"Price\"].sum()\n",
    "\n",
    "#Normalized Totals\n",
    "normalized = purchase_price / count\n",
    "\n",
    "#Create new dataframe\n",
    "gender_analysis = pd.DataFrame({\"Average Purchase Price\": average_price,\n",
    "                            \"Total Purchase Price\":purchase_price,\n",
    "                               \"Normalized Totals\": normalized})\n",
    "\n",
    "#Clean up formatting and reorder columns\n",
    "gender_analysis[\"Average Purchase Price\"] = gender_analysis[\"Average Purchase Price\"].map(\"${:,.2f}\".format) \n",
    "gender_analysis[\"Total Purchase Price\"] = gender_analysis[\"Total Purchase Price\"].map(\"${:,.2f}\".format) \n",
    "gender_analysis[\"Normalized Totals\"] = gender_analysis[\"Normalized Totals\"].map(\"${:,.2f}\".format) \n",
    "gender_analysis"
   ]
  },
  {
   "cell_type": "code",
   "execution_count": null,
   "metadata": {},
   "outputs": [],
   "source": [
    "#Age Demographics\n",
    "#Drop Duplicates\n",
    "cleaned_df = game_df.drop_duplicates(\"SN\")\n",
    "\n",
    "#The below each broken into bins of 4 years (i.e. <10, 10-14, 15-19, etc.)\n",
    "bins = [10, 14, 18, 22, 26, 30, 34, 38, 42]\n",
    "groups = [\"<10\", \"10-14\", \"15-19\", \"20-24\", \"25-29\", \"30-34\", \"35-39\", \"40+\"]\n",
    "\n",
    "#Create a  new column for age groups and then groupby Age Groups\n",
    "cleaned_df[\"Age Groups\"] = pd.cut(cleaned_df[\"Age\"], bins, labels=groups)\n",
    "age_df = cleaned_df.groupby([\"Age Groups\"])\n",
    "\n",
    "total_age = unique_df[\"Age\"].sum()\n",
    "\n",
    "#Purchase Count\n",
    "age_purchase = game_df[\"Age Groups\"].value_counts()\n",
    "\n",
    "#Percentage of Users\n",
    "age_percentage = age_purchase / total_players\n",
    "\n",
    "age_demographics = pd.DataFrame({\"Total Count\": age_purchase,\n",
    "                             \"Percentage of Players\":age_percentage})\n",
    "\n",
    "age_demographics[\"Percentage of Players\"] = age_demographics[\"Percentage of Players\"].map(\"{:,.2%}\".format) \n",
    "\n",
    "age_demographics = pd.concat([age_demographics.loc[[\"<10\"],:], age_demographics.drop(\"<10\", axis=0)], axis=0)\n",
    "\n",
    "age_demographics"
   ]
  },
  {
   "cell_type": "code",
   "execution_count": null,
   "metadata": {},
   "outputs": [],
   "source": [
    "#Age Demographics\n",
    "\n",
    "#Average Purchase Price\n",
    "age_average_price = age_df[\"Price\"].mean()\n",
    "\n",
    "#Total Purchase Value\n",
    "age_price = age_df[\"Price\"].sum()\n",
    "\n",
    "#Normalized Totals\n",
    "normalized_age = age_price / age_purchase\n",
    "\n",
    "#Create new dataframe\n",
    "age_analysis = pd.DataFrame({\"Purchase Count\": age_purchase,\n",
    "                             \"Average Purchase Price\":age_average_price,\n",
    "                            \"Total Purchase Value\":age_price,\n",
    "                            \"Normalized Totals\": normalized_age})\n",
    "\n",
    "#Clean up formatting\n",
    "age_analysis[\"Average Purchase Price\"] = age_analysis[\"Average Purchase Price\"].map(\"${:,.2f}\".format) \n",
    "age_analysis[\"Total Purchase Value\"] = age_analysis[\"Total Purchase Value\"].map(\"${:,.2f}\".format) \n",
    "age_analysis[\"Normalized Totals\"] = age_analysis[\"Normalized Totals\"].map(\"${:,.2f}\".format) \n",
    "\n",
    "#Move bottom row to the top\n",
    "age_analysis = pd.concat([age_analysis.loc[[\"<10\"],:], age_analysis.drop(\"<10\", axis=0)], axis=0)\n",
    "\n",
    "age_analysis\n"
   ]
  },
  {
   "cell_type": "code",
   "execution_count": 110,
   "metadata": {},
   "outputs": [
    {
     "data": {
      "text/html": [
       "<div>\n",
       "<style>\n",
       "    .dataframe thead tr:only-child th {\n",
       "        text-align: right;\n",
       "    }\n",
       "\n",
       "    .dataframe thead th {\n",
       "        text-align: left;\n",
       "    }\n",
       "\n",
       "    .dataframe tbody tr th {\n",
       "        vertical-align: top;\n",
       "    }\n",
       "</style>\n",
       "<table border=\"1\" class=\"dataframe\">\n",
       "  <thead>\n",
       "    <tr style=\"text-align: right;\">\n",
       "      <th></th>\n",
       "      <th>Average Purchase Price</th>\n",
       "      <th>Count</th>\n",
       "      <th>Total Purchase Price</th>\n",
       "    </tr>\n",
       "    <tr>\n",
       "      <th>SN</th>\n",
       "      <th></th>\n",
       "      <th></th>\n",
       "      <th></th>\n",
       "    </tr>\n",
       "  </thead>\n",
       "  <tbody>\n",
       "    <tr>\n",
       "      <th>Undirrala66</th>\n",
       "      <td>$3.41</td>\n",
       "      <td>5</td>\n",
       "      <td>$17.06</td>\n",
       "    </tr>\n",
       "    <tr>\n",
       "      <th>Saedue76</th>\n",
       "      <td>$3.39</td>\n",
       "      <td>4</td>\n",
       "      <td>$13.56</td>\n",
       "    </tr>\n",
       "    <tr>\n",
       "      <th>Mindimnya67</th>\n",
       "      <td>$3.18</td>\n",
       "      <td>4</td>\n",
       "      <td>$12.74</td>\n",
       "    </tr>\n",
       "    <tr>\n",
       "      <th>Haellysu29</th>\n",
       "      <td>$4.24</td>\n",
       "      <td>3</td>\n",
       "      <td>$12.73</td>\n",
       "    </tr>\n",
       "    <tr>\n",
       "      <th>Eoda93</th>\n",
       "      <td>$3.86</td>\n",
       "      <td>3</td>\n",
       "      <td>$11.58</td>\n",
       "    </tr>\n",
       "  </tbody>\n",
       "</table>\n",
       "</div>"
      ],
      "text/plain": [
       "            Average Purchase Price  Count Total Purchase Price\n",
       "SN                                                            \n",
       "Undirrala66                  $3.41      5               $17.06\n",
       "Saedue76                     $3.39      4               $13.56\n",
       "Mindimnya67                  $3.18      4               $12.74\n",
       "Haellysu29                   $4.24      3               $12.73\n",
       "Eoda93                       $3.86      3               $11.58"
      ]
     },
     "execution_count": 110,
     "metadata": {},
     "output_type": "execute_result"
    }
   ],
   "source": [
    "#Top Users\n",
    "grouped_sn = game_df.groupby([\"SN\"])\n",
    "\n",
    "#Find total spent per user\n",
    "total_price_sn = grouped_sn.sum()[\"Price\"]\n",
    "\n",
    "#Find avg spent per user\n",
    "avg_price_sn = grouped_sn.mean()[\"Price\"]\n",
    "\n",
    "#Find purchase count per user\n",
    "count_sn = grouped_sn.count()[\"Price\"]\n",
    "\n",
    "#Create new dataframe\n",
    "top_user_df = pd.DataFrame({\"Count\":count_sn,\n",
    "                            \"Average Purchase Price\":avg_price_sn,\n",
    "                            \"Total Purchase Price\": total_price_sn\n",
    "                            })\n",
    "sorted_df = top_user_df.sort_values(\"Total Purchase Price\",ascending=False)\n",
    "\n",
    "sorted_df[\"Average Purchase Price\"] = sorted_df[\"Average Purchase Price\"].map(\"${:,.2f}\".format) \n",
    "sorted_df[\"Total Purchase Price\"] = sorted_df[\"Total Purchase Price\"].map(\"${:,.2f}\".format) \n",
    "\n",
    "#Sort by total purchase price\n",
    "\n",
    "\n",
    "#Display top 5\n",
    "sorted_df.head(5)\n"
   ]
  },
  {
   "cell_type": "code",
   "execution_count": null,
   "metadata": {
    "collapsed": true
   },
   "outputs": [],
   "source": []
  },
  {
   "cell_type": "code",
   "execution_count": null,
   "metadata": {
    "collapsed": true
   },
   "outputs": [],
   "source": []
  }
 ],
 "metadata": {
  "kernelspec": {
   "display_name": "Python 3",
   "language": "python",
   "name": "python3"
  },
  "language_info": {
   "codemirror_mode": {
    "name": "ipython",
    "version": 3
   },
   "file_extension": ".py",
   "mimetype": "text/x-python",
   "name": "python",
   "nbconvert_exporter": "python",
   "pygments_lexer": "ipython3",
   "version": "3.6.3"
  }
 },
 "nbformat": 4,
 "nbformat_minor": 2
}
