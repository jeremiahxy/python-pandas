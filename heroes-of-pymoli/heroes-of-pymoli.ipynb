{
 "cells": [
  {
   "cell_type": "code",
   "execution_count": 1,
   "metadata": {
    "collapsed": true
   },
   "outputs": [],
   "source": [
    "#import dependencies\n",
    "import pandas as pd\n",
    "import json\n",
    "import os"
   ]
  },
  {
   "cell_type": "code",
   "execution_count": 2,
   "metadata": {
    "collapsed": true
   },
   "outputs": [],
   "source": [
    "jsondata = os.path.join(\"Resources\",\"purchase_data.json\")"
   ]
  },
  {
   "cell_type": "code",
   "execution_count": 321,
   "metadata": {},
   "outputs": [],
   "source": [
    "#Read JSON data into a variable\n",
    "with open(jsondata) as json_data:\n",
    "    d = json.load(json_data)"
   ]
  },
  {
   "cell_type": "code",
   "execution_count": 197,
   "metadata": {},
   "outputs": [
    {
     "data": {
      "text/plain": [
       "SN           573\n",
       "Age           37\n",
       "Gender         3\n",
       "Item ID      183\n",
       "Item Name    179\n",
       "dtype: int64"
      ]
     },
     "execution_count": 197,
     "metadata": {},
     "output_type": "execute_result"
    }
   ],
   "source": [
    "#turn data into dataframe\n",
    "game_df = pd.DataFrame(d, columns=['SN', 'Age', 'Gender', 'Item ID', 'Item Name', 'Price'])\n",
    "game_df.head()"
   ]
  },
  {
   "cell_type": "code",
   "execution_count": 190,
   "metadata": {},
   "outputs": [
    {
     "data": {
      "text/html": [
       "<div>\n",
       "<style>\n",
       "    .dataframe thead tr:only-child th {\n",
       "        text-align: right;\n",
       "    }\n",
       "\n",
       "    .dataframe thead th {\n",
       "        text-align: left;\n",
       "    }\n",
       "\n",
       "    .dataframe tbody tr th {\n",
       "        vertical-align: top;\n",
       "    }\n",
       "</style>\n",
       "<table border=\"1\" class=\"dataframe\">\n",
       "  <thead>\n",
       "    <tr style=\"text-align: right;\">\n",
       "      <th></th>\n",
       "      <th>Total Players</th>\n",
       "    </tr>\n",
       "  </thead>\n",
       "  <tbody>\n",
       "    <tr>\n",
       "      <th>0</th>\n",
       "      <td>573</td>\n",
       "    </tr>\n",
       "  </tbody>\n",
       "</table>\n",
       "</div>"
      ],
      "text/plain": [
       "   Total Players\n",
       "0            573"
      ]
     },
     "execution_count": 190,
     "metadata": {},
     "output_type": "execute_result"
    }
   ],
   "source": [
    "#Player Count\n",
    "total_players = len(game_df['SN'].value_counts())\n",
    "Total_Players = pd.DataFrame({\"Total Players\": total_players}, index=[0])\n",
    "Total_Players"
   ]
  },
  {
   "cell_type": "code",
   "execution_count": 191,
   "metadata": {
    "collapsed": true
   },
   "outputs": [],
   "source": [
    "#Purchasing Analysis"
   ]
  },
  {
   "cell_type": "code",
   "execution_count": 192,
   "metadata": {
    "scrolled": true
   },
   "outputs": [
    {
     "data": {
      "text/html": [
       "<div>\n",
       "<style>\n",
       "    .dataframe thead tr:only-child th {\n",
       "        text-align: right;\n",
       "    }\n",
       "\n",
       "    .dataframe thead th {\n",
       "        text-align: left;\n",
       "    }\n",
       "\n",
       "    .dataframe tbody tr th {\n",
       "        vertical-align: top;\n",
       "    }\n",
       "</style>\n",
       "<table border=\"1\" class=\"dataframe\">\n",
       "  <thead>\n",
       "    <tr style=\"text-align: right;\">\n",
       "      <th></th>\n",
       "      <th>Number of Unique Items</th>\n",
       "      <th>Average Price</th>\n",
       "      <th>Total Purchases</th>\n",
       "      <th>Total Revenue</th>\n",
       "    </tr>\n",
       "  </thead>\n",
       "  <tbody>\n",
       "    <tr>\n",
       "      <th>0</th>\n",
       "      <td>183</td>\n",
       "      <td>$2.93</td>\n",
       "      <td>780</td>\n",
       "      <td>$2,286.33</td>\n",
       "    </tr>\n",
       "  </tbody>\n",
       "</table>\n",
       "</div>"
      ],
      "text/plain": [
       "   Number of Unique Items Average Price  Total Purchases Total Revenue\n",
       "0                     183         $2.93              780     $2,286.33"
      ]
     },
     "execution_count": 192,
     "metadata": {},
     "output_type": "execute_result"
    }
   ],
   "source": [
    "#Number of Unique Items\n",
    "unique_items = len(game_df['Item ID'].value_counts())\n",
    "\n",
    "#Average Purchase Price\n",
    "average_price = game_df['Price'].mean()\n",
    "\n",
    "#Total Number of Purchases\n",
    "total_purchases = game_df['Item Name'].count()\n",
    "\n",
    "\n",
    "#Total Revenue\n",
    "total_revenue = game_df['Price'].sum()\n",
    "\n",
    "#Create DataFrame\n",
    "purchasing_analysis = pd.DataFrame({\"Number of Unique Items\": [unique_items],\n",
    "                                   \"Average Price\": [average_price],\n",
    "                                   \"Total Purchases\": [total_purchases],\n",
    "                                   \"Total Revenue\": [total_revenue],\n",
    "                                \n",
    "})\n",
    "\n",
    "#Reorder DataFrame\n",
    "purchasing_analysis = purchasing_analysis[[\"Number of Unique Items\", \"Average Price\",\"Total Purchases\", \"Total Revenue\"]]\n",
    "                                \n",
    "\n",
    "#improve formatting\n",
    "purchasing_analysis[\"Average Price\"] = purchasing_analysis[\"Average Price\"].map(\"${0:,.2f}\".format)\n",
    "purchasing_analysis[\"Total Revenue\"] = purchasing_analysis[\"Total Revenue\"].map(\"${0:,.2f}\".format)\n",
    "\n",
    "purchasing_analysis"
   ]
  },
  {
   "cell_type": "code",
   "execution_count": 193,
   "metadata": {
    "collapsed": true
   },
   "outputs": [],
   "source": [
    "#Gender Demographics"
   ]
  },
  {
   "cell_type": "code",
   "execution_count": 309,
   "metadata": {},
   "outputs": [
    {
     "data": {
      "text/plain": [
       "573"
      ]
     },
     "execution_count": 309,
     "metadata": {},
     "output_type": "execute_result"
    }
   ],
   "source": [
    "#Group data by Gender and filter duplicates\n",
    "grouped_df = game_df.groupby([\"Gender\"])\n",
    "unique_df = grouped_gender.nunique()\n",
    "\n",
    "#Total Gender\n",
    "total_gender = unique_df[\"SN\"].sum()\n",
    "\n",
    "#Percentage and Count of Players\n",
    "count = unique_df[\"SN\"].unique()\n",
    "percentage = unique_df[\"SN\"]/ total_gender\n",
    "\n",
    "#Create new dataframe\n",
    "final_gender = pd.DataFrame({\"Percentage of Players\": percentage,\n",
    "                            \"Count\":count})\n",
    "#Change percentage format and re order columns\n",
    "final_gender[\"Percentage of Players\"] = final_gender[\"Percentage of Players\"].map(\"{:,.2%}\".format) \n",
    "final_gender.columns = [\"Percentage of Players\", \"Count\"]\n",
    "#Print final dataframe\n",
    "final_gender"
   ]
  },
  {
   "cell_type": "code",
   "execution_count": 304,
   "metadata": {},
   "outputs": [
    {
     "data": {
      "text/html": [
       "<div>\n",
       "<style>\n",
       "    .dataframe thead tr:only-child th {\n",
       "        text-align: right;\n",
       "    }\n",
       "\n",
       "    .dataframe thead th {\n",
       "        text-align: left;\n",
       "    }\n",
       "\n",
       "    .dataframe tbody tr th {\n",
       "        vertical-align: top;\n",
       "    }\n",
       "</style>\n",
       "<table border=\"1\" class=\"dataframe\">\n",
       "  <thead>\n",
       "    <tr style=\"text-align: right;\">\n",
       "      <th></th>\n",
       "      <th>Average Purchase Price</th>\n",
       "      <th>Normalized Totals</th>\n",
       "      <th>Total Purchase Price</th>\n",
       "    </tr>\n",
       "    <tr>\n",
       "      <th>Gender</th>\n",
       "      <th></th>\n",
       "      <th></th>\n",
       "      <th></th>\n",
       "    </tr>\n",
       "  </thead>\n",
       "  <tbody>\n",
       "    <tr>\n",
       "      <th>Female</th>\n",
       "      <td>$2.82</td>\n",
       "      <td>$3.83</td>\n",
       "      <td>$382.91</td>\n",
       "    </tr>\n",
       "    <tr>\n",
       "      <th>Male</th>\n",
       "      <td>$2.95</td>\n",
       "      <td>$4.02</td>\n",
       "      <td>$1,867.68</td>\n",
       "    </tr>\n",
       "    <tr>\n",
       "      <th>Other / Non-Disclosed</th>\n",
       "      <td>$3.25</td>\n",
       "      <td>$4.47</td>\n",
       "      <td>$35.74</td>\n",
       "    </tr>\n",
       "  </tbody>\n",
       "</table>\n",
       "</div>"
      ],
      "text/plain": [
       "                      Average Purchase Price Normalized Totals  \\\n",
       "Gender                                                           \n",
       "Female                                 $2.82             $3.83   \n",
       "Male                                   $2.95             $4.02   \n",
       "Other / Non-Disclosed                  $3.25             $4.47   \n",
       "\n",
       "                      Total Purchase Price  \n",
       "Gender                                      \n",
       "Female                             $382.91  \n",
       "Male                             $1,867.68  \n",
       "Other / Non-Disclosed               $35.74  "
      ]
     },
     "execution_count": 304,
     "metadata": {},
     "output_type": "execute_result"
    }
   ],
   "source": [
    "#Purchasing Analysis (Gender)\n",
    "\n",
    "#Purchase Count\n",
    "purchase_count = unique_df[\"Gender\"].value_counts()\n",
    "\n",
    "#Average Purchase Price\n",
    "average_price = grouped_df[\"Price\"].mean()\n",
    "\n",
    "#Total Purchase Value\n",
    "purchase_price = grouped_df[\"Price\"].sum()\n",
    "\n",
    "#Normalized Totals\n",
    "normalized = purchase_price / count\n",
    "\n",
    "#Create new dataframe\n",
    "gender_analysis = pd.DataFrame({\"Average Purchase Price\": average_price,\n",
    "                            \"Total Purchase Price\":purchase_price,\n",
    "                               \"Normalized Totals\": normalized})\n",
    "\n",
    "#Clean up formatting and reorder columns\n",
    "gender_analysis[\"Average Purchase Price\"] = gender_analysis[\"Average Purchase Price\"].map(\"${:,.2f}\".format) \n",
    "gender_analysis[\"Total Purchase Price\"] = gender_analysis[\"Total Purchase Price\"].map(\"${:,.2f}\".format) \n",
    "gender_analysis[\"Normalized Totals\"] = gender_analysis[\"Normalized Totals\"].map(\"${:,.2f}\".format) \n",
    "gender_analysis"
   ]
  },
  {
   "cell_type": "code",
   "execution_count": 327,
   "metadata": {},
   "outputs": [
    {
     "name": "stderr",
     "output_type": "stream",
     "text": [
      "/anaconda3/envs/PythonData/lib/python3.6/site-packages/ipykernel_launcher.py:8: SettingWithCopyWarning: \n",
      "A value is trying to be set on a copy of a slice from a DataFrame.\n",
      "Try using .loc[row_indexer,col_indexer] = value instead\n",
      "\n",
      "See the caveats in the documentation: http://pandas.pydata.org/pandas-docs/stable/indexing.html#indexing-view-versus-copy\n",
      "  \n"
     ]
    },
    {
     "data": {
      "text/html": [
       "<div>\n",
       "<style>\n",
       "    .dataframe thead tr:only-child th {\n",
       "        text-align: right;\n",
       "    }\n",
       "\n",
       "    .dataframe thead th {\n",
       "        text-align: left;\n",
       "    }\n",
       "\n",
       "    .dataframe tbody tr th {\n",
       "        vertical-align: top;\n",
       "    }\n",
       "</style>\n",
       "<table border=\"1\" class=\"dataframe\">\n",
       "  <thead>\n",
       "    <tr style=\"text-align: right;\">\n",
       "      <th></th>\n",
       "      <th>Percentage of Players</th>\n",
       "      <th>Total Count</th>\n",
       "    </tr>\n",
       "  </thead>\n",
       "  <tbody>\n",
       "    <tr>\n",
       "      <th>&lt;10</th>\n",
       "      <td>5.41%</td>\n",
       "      <td>31</td>\n",
       "    </tr>\n",
       "    <tr>\n",
       "      <th>15-19</th>\n",
       "      <td>46.42%</td>\n",
       "      <td>266</td>\n",
       "    </tr>\n",
       "    <tr>\n",
       "      <th>20-24</th>\n",
       "      <td>29.49%</td>\n",
       "      <td>169</td>\n",
       "    </tr>\n",
       "    <tr>\n",
       "      <th>10-14</th>\n",
       "      <td>23.21%</td>\n",
       "      <td>133</td>\n",
       "    </tr>\n",
       "    <tr>\n",
       "      <th>25-29</th>\n",
       "      <td>10.47%</td>\n",
       "      <td>60</td>\n",
       "    </tr>\n",
       "    <tr>\n",
       "      <th>30-34</th>\n",
       "      <td>7.33%</td>\n",
       "      <td>42</td>\n",
       "    </tr>\n",
       "    <tr>\n",
       "      <th>35-39</th>\n",
       "      <td>5.24%</td>\n",
       "      <td>30</td>\n",
       "    </tr>\n",
       "    <tr>\n",
       "      <th>40+</th>\n",
       "      <td>2.44%</td>\n",
       "      <td>14</td>\n",
       "    </tr>\n",
       "  </tbody>\n",
       "</table>\n",
       "</div>"
      ],
      "text/plain": [
       "      Percentage of Players  Total Count\n",
       "<10                   5.41%           31\n",
       "15-19                46.42%          266\n",
       "20-24                29.49%          169\n",
       "10-14                23.21%          133\n",
       "25-29                10.47%           60\n",
       "30-34                 7.33%           42\n",
       "35-39                 5.24%           30\n",
       "40+                   2.44%           14"
      ]
     },
     "execution_count": 327,
     "metadata": {},
     "output_type": "execute_result"
    }
   ],
   "source": [
    "#Age Demographics\n",
    "#Drop Duplicates\n",
    "cleaned_df = game_df.drop_duplicates(\"SN\")\n",
    "\n",
    "#The below each broken into bins of 4 years (i.e. <10, 10-14, 15-19, etc.)\n",
    "bins = [10, 14, 19, 23, 27, 31, 35, 39, 40]\n",
    "groups = [\"<10\", \"10-14\", \"15-19\", \"20-24\", \"25-29\", \"30-34\", \"35-39\", \"40+\"]\n",
    "\n",
    "#Create a  new column for age groups and then groupby Age Groups\n",
    "cleaned_df[\"Age Groups\"] = pd.cut(cleaned_df[\"Age\"], bins, labels=groups)\n",
    "age_df = cleaned_df.groupby([\"Age Groups\"])\n",
    "\n",
    "total_age = unique_df[\"Age\"].sum()\n",
    "\n",
    "#Purchase Count\n",
    "age_purchase = game_df[\"Age Groups\"].value_counts()\n",
    "\n",
    "#Percentage of Users\n",
    "age_percentage = age_purchase / total_players\n",
    "\n",
    "age_demographics = pd.DataFrame({\"Total Count\": age_purchase,\n",
    "                             \"Percentage of Players\":age_percentage})\n",
    "\n",
    "age_demographics[\"Percentage of Players\"] = age_demographics[\"Percentage of Players\"].map(\"{:,.2%}\".format) \n",
    "\n",
    "age_demographics = pd.concat([age_demographics.loc[[\"<10\"],:], age_demographics.drop(\"<10\", axis=0)], axis=0)\n",
    "\n",
    "age_demographics"
   ]
  },
  {
   "cell_type": "code",
   "execution_count": 328,
   "metadata": {},
   "outputs": [
    {
     "data": {
      "text/html": [
       "<div>\n",
       "<style>\n",
       "    .dataframe thead tr:only-child th {\n",
       "        text-align: right;\n",
       "    }\n",
       "\n",
       "    .dataframe thead th {\n",
       "        text-align: left;\n",
       "    }\n",
       "\n",
       "    .dataframe tbody tr th {\n",
       "        vertical-align: top;\n",
       "    }\n",
       "</style>\n",
       "<table border=\"1\" class=\"dataframe\">\n",
       "  <thead>\n",
       "    <tr style=\"text-align: right;\">\n",
       "      <th></th>\n",
       "      <th>Average Purchase Price</th>\n",
       "      <th>Normalized Totals</th>\n",
       "      <th>Purchase Count</th>\n",
       "      <th>Total Purchase Value</th>\n",
       "    </tr>\n",
       "  </thead>\n",
       "  <tbody>\n",
       "    <tr>\n",
       "      <th>&lt;10</th>\n",
       "      <td>$2.60</td>\n",
       "      <td>$1.68</td>\n",
       "      <td>31</td>\n",
       "      <td>$51.99</td>\n",
       "    </tr>\n",
       "    <tr>\n",
       "      <th>10-14</th>\n",
       "      <td>$2.90</td>\n",
       "      <td>$2.18</td>\n",
       "      <td>133</td>\n",
       "      <td>$289.88</td>\n",
       "    </tr>\n",
       "    <tr>\n",
       "      <th>15-19</th>\n",
       "      <td>$2.90</td>\n",
       "      <td>$2.28</td>\n",
       "      <td>266</td>\n",
       "      <td>$605.46</td>\n",
       "    </tr>\n",
       "    <tr>\n",
       "      <th>20-24</th>\n",
       "      <td>$3.13</td>\n",
       "      <td>$2.24</td>\n",
       "      <td>169</td>\n",
       "      <td>$378.79</td>\n",
       "    </tr>\n",
       "    <tr>\n",
       "      <th>25-29</th>\n",
       "      <td>$3.01</td>\n",
       "      <td>$1.95</td>\n",
       "      <td>60</td>\n",
       "      <td>$117.24</td>\n",
       "    </tr>\n",
       "    <tr>\n",
       "      <th>30-34</th>\n",
       "      <td>$3.32</td>\n",
       "      <td>$2.69</td>\n",
       "      <td>42</td>\n",
       "      <td>$112.95</td>\n",
       "    </tr>\n",
       "    <tr>\n",
       "      <th>35-39</th>\n",
       "      <td>$2.71</td>\n",
       "      <td>$1.53</td>\n",
       "      <td>30</td>\n",
       "      <td>$46.03</td>\n",
       "    </tr>\n",
       "    <tr>\n",
       "      <th>40+</th>\n",
       "      <td>$3.20</td>\n",
       "      <td>$1.83</td>\n",
       "      <td>14</td>\n",
       "      <td>$25.61</td>\n",
       "    </tr>\n",
       "  </tbody>\n",
       "</table>\n",
       "</div>"
      ],
      "text/plain": [
       "      Average Purchase Price Normalized Totals  Purchase Count  \\\n",
       "<10                    $2.60             $1.68              31   \n",
       "10-14                  $2.90             $2.18             133   \n",
       "15-19                  $2.90             $2.28             266   \n",
       "20-24                  $3.13             $2.24             169   \n",
       "25-29                  $3.01             $1.95              60   \n",
       "30-34                  $3.32             $2.69              42   \n",
       "35-39                  $2.71             $1.53              30   \n",
       "40+                    $3.20             $1.83              14   \n",
       "\n",
       "      Total Purchase Value  \n",
       "<10                 $51.99  \n",
       "10-14              $289.88  \n",
       "15-19              $605.46  \n",
       "20-24              $378.79  \n",
       "25-29              $117.24  \n",
       "30-34              $112.95  \n",
       "35-39               $46.03  \n",
       "40+                 $25.61  "
      ]
     },
     "execution_count": 328,
     "metadata": {},
     "output_type": "execute_result"
    }
   ],
   "source": [
    "#Age Demographics\n",
    "\n",
    "#Average Purchase Price\n",
    "age_average_price = age_df[\"Price\"].mean()\n",
    "\n",
    "#Total Purchase Value\n",
    "age_price = age_df[\"Price\"].sum()\n",
    "\n",
    "#Normalized Totals\n",
    "normalized_age = age_price / age_purchase\n",
    "\n",
    "#Create new dataframe\n",
    "age_analysis = pd.DataFrame({\"Purchase Count\": age_purchase,\n",
    "                             \"Average Purchase Price\":age_average_price,\n",
    "                            \"Total Purchase Value\":age_price,\n",
    "                               \"Normalized Totals\": normalized_age})\n",
    "\n",
    "#Clean up formatting\n",
    "age_analysis[\"Average Purchase Price\"] = age_analysis[\"Average Purchase Price\"].map(\"${:,.2f}\".format) \n",
    "age_analysis[\"Total Purchase Value\"] = age_analysis[\"Total Purchase Value\"].map(\"${:,.2f}\".format) \n",
    "age_analysis[\"Normalized Totals\"] = age_analysis[\"Normalized Totals\"].map(\"${:,.2f}\".format) \n",
    "\n",
    "#Move bottom row to the top\n",
    "age_analysis = pd.concat([age_analysis.loc[[\"<10\"],:], age_analysis.drop(\"<10\", axis=0)], axis=0)\n",
    "\n",
    "age_analysis\n"
   ]
  },
  {
   "cell_type": "code",
   "execution_count": 342,
   "metadata": {},
   "outputs": [
    {
     "data": {
      "text/plain": [
       "SN               SN             \n",
       "Adairialis76     Adairialis76       1\n",
       "Aduephos78       Aduephos78         3\n",
       "Aeduera68        Aeduera68          3\n",
       "Aela49           Aela49             1\n",
       "Aela59           Aela59             1\n",
       "Aelalis34        Aelalis34          2\n",
       "Aelin32          Aelin32            1\n",
       "Aeliriam77       Aeliriam77         2\n",
       "Aeliriarin93     Aeliriarin93       1\n",
       "Aeliru63         Aeliru63           2\n",
       "Aellyria80       Aellyria80         1\n",
       "Aellyrialis39    Aellyrialis39      1\n",
       "Aellysup38       Aellysup38         1\n",
       "Aelollo59        Aelollo59          1\n",
       "Aenarap34        Aenarap34          1\n",
       "Aenasu69         Aenasu69           1\n",
       "Aeral43          Aeral43            1\n",
       "Aeral85          Aeral85            1\n",
       "Aeral97          Aeral97            1\n",
       "Aeri84           Aeri84             2\n",
       "Aerillorin70     Aerillorin70       1\n",
       "Aerithllora36    Aerithllora36      3\n",
       "Aerithnucal56    Aerithnucal56      2\n",
       "Aerithnuphos61   Aerithnuphos61     1\n",
       "Aerithriaphos45  Aerithriaphos45    1\n",
       "Aesty51          Aesty51            1\n",
       "Aesur96          Aesur96            1\n",
       "Aethe80          Aethe80            1\n",
       "Aethedru70       Aethedru70         1\n",
       "Aidain51         Aidain51           2\n",
       "                                   ..\n",
       "Undjaskla97      Undjaskla97        1\n",
       "Undjasksya56     Undjasksya56       1\n",
       "Undotesta33      Undotesta33        1\n",
       "Wailin72         Wailin72           1\n",
       "Whaestysu86      Whaestysu86        1\n",
       "Yadacal26        Yadacal26          1\n",
       "Yadaisuir65      Yadaisuir65        2\n",
       "Yadanun74        Yadanun74          3\n",
       "Yalaeria91       Yalaeria91         1\n",
       "Yaliru88         Yaliru88           1\n",
       "Yalo71           Yalo71             1\n",
       "Yalostiphos68    Yalostiphos68      1\n",
       "Yaralnura48      Yaralnura48        2\n",
       "Yararmol43       Yararmol43         1\n",
       "Yarirarn35       Yarirarn35         1\n",
       "Yaristi64        Yaristi64          1\n",
       "Yarithllodeu72   Yarithllodeu72     1\n",
       "Yarithphos28     Yarithphos28       1\n",
       "Yarithsurgue62   Yarithsurgue62     2\n",
       "Yarmol79         Yarmol79           1\n",
       "Yarolwen77       Yarolwen77         2\n",
       "Yasriphos60      Yasriphos60        3\n",
       "Yasrisu92        Yasrisu92          1\n",
       "Yasur35          Yasur35            1\n",
       "Yasur85          Yasur85            1\n",
       "Yasurra52        Yasurra52          1\n",
       "Yathecal72       Yathecal72         2\n",
       "Yathecal82       Yathecal82         1\n",
       "Zhisrisu83       Zhisrisu83         2\n",
       "Zontibe81        Zontibe81          1\n",
       "Name: SN, Length: 573, dtype: int64"
      ]
     },
     "execution_count": 342,
     "metadata": {},
     "output_type": "execute_result"
    }
   ],
   "source": [
    "#Top Users\n",
    "#Group data by SN\n",
    "sn_df = game_df.groupby([\"SN\"])\n",
    "\n",
    "top_sn = sn_df[\"SN\"].value_counts()\n"
   ]
  },
  {
   "cell_type": "code",
   "execution_count": null,
   "metadata": {
    "collapsed": true
   },
   "outputs": [],
   "source": []
  }
 ],
 "metadata": {
  "kernelspec": {
   "display_name": "Python 3",
   "language": "python",
   "name": "python3"
  },
  "language_info": {
   "codemirror_mode": {
    "name": "ipython",
    "version": 3
   },
   "file_extension": ".py",
   "mimetype": "text/x-python",
   "name": "python",
   "nbconvert_exporter": "python",
   "pygments_lexer": "ipython3",
   "version": "3.6.3"
  }
 },
 "nbformat": 4,
 "nbformat_minor": 2
}
